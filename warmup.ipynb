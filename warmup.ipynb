{
 "cells": [
  {
   "cell_type": "markdown",
   "metadata": {},
   "source": [
    "# HW 1 (Warmup): Intro to Python \n",
    "\n",
    "This assignment gives an introduction to the main programming language and environment for the course: Python and Jupyter notebooks. \n",
    "\n",
    "* Set up Jupyter on your own computer.\n",
    "* Python basics, like defining functions.\n",
    "* Use the numpy library.\n",
    "* Matrix expressions.\n"
   ]
  },
  {
   "cell_type": "markdown",
   "metadata": {},
   "source": [
    "## Prerequisites\n",
    "\n",
    "### Running a Cell\n",
    "\n",
    "Try running the following cell by pressing Ctrl + Enter.  If you are unfamiliar with Jupyter Notebooks consider skimming [this tutorial](http://nbviewer.jupyter.org/github/jupyter/notebook/blob/master/docs/source/examples/Notebook/Notebook%20Basics.ipynb) or selecting **Help -> User Interface Tour** in the menu above. "
   ]
  },
  {
   "cell_type": "code",
   "execution_count": 6,
   "metadata": {},
   "outputs": [
    {
     "name": "stdout",
     "output_type": "stream",
     "text": [
      "Hello, world!\n"
     ]
    }
   ],
   "source": [
    "print(\"Hello, world!\")"
   ]
  },
  {
   "cell_type": "markdown",
   "metadata": {},
   "source": [
    "**Jupyter pro-tip**: Even if you are familiar with Jupyter, we strongly encourage you to become proficient with keyboard shortcuts (this will save you time in the future). To learn about keyboard shortcuts go to Help -> Keyboard Shortcuts in the menu above. Our favorite shortcut is Ctrl+Enter which runs a cell. We also recommend creating a shortcut for clearing a cell's output by going to Help -> Edit Keyboard Shortcuts and entering \"Ctrl-o\" for \"clear cell output\". \n",
    "\n",
    "## Testing your Setup\n",
    "If you've set up your environment properly, this cell should run without problems:"
   ]
  },
  {
   "cell_type": "code",
   "execution_count": 2,
   "metadata": {},
   "outputs": [],
   "source": [
    "import math\n",
    "import numpy as np\n",
    "import matplotlib\n",
    "%matplotlib inline\n",
    "import matplotlib.pyplot as plt\n",
    "plt.style.use('fivethirtyeight')\n",
    "import pandas as pd"
   ]
  },
  {
   "cell_type": "markdown",
   "metadata": {},
   "source": [
    "### Python\n",
    "\n",
    "Python is the main programming language we will use in the course. Run each cell below and make sure you understand what is happening in each.\n",
    "\n",
    "If this seems difficult, please review one or more of the following materials.\n",
    "\n",
    "- **[Python Tutorial](https://docs.python.org/3.5/tutorial/)**: Introduction to Python from the creators of Python\n",
    "- **[Composing Programs Chapter 1](http://composingprograms.com/pages/11-getting-started.html)**: This is more of a introduction to programming with Python.\n",
    "- **[Advanced Crash Course](http://cs231n.github.io/python-numpy-tutorial/)**: A fast crash course which assumes some programming background.\n",
    "\n",
    "#### Mathematical expressions"
   ]
  },
  {
   "cell_type": "code",
   "execution_count": 15,
   "metadata": {},
   "outputs": [
    {
     "data": {
      "text/plain": [
       "0.3427354792736325"
      ]
     },
     "execution_count": 15,
     "metadata": {},
     "output_type": "execute_result"
    }
   ],
   "source": [
    "# This is a comment.\n",
    "# In Python, the ** operator performs exponentiation.\n",
    "math.sqrt(math.e ** (-math.pi + 1))\n",
    "##\n",
    "#print(math.e)"
   ]
  },
  {
   "cell_type": "markdown",
   "metadata": {},
   "source": [
    "#### Printing"
   ]
  },
  {
   "cell_type": "code",
   "execution_count": 103,
   "metadata": {},
   "outputs": [
    {
     "name": "stdout",
     "output_type": "stream",
     "text": [
      "Hello, world!\n",
      "another one\n"
     ]
    },
    {
     "data": {
      "text/plain": [
       "'another two'"
      ]
     },
     "execution_count": 103,
     "metadata": {},
     "output_type": "execute_result"
    }
   ],
   "source": [
    "\"Why didn't this line print?\"\n",
    "\n",
    "print(\"Hello\" + \",\", \"world!\")\n",
    "\n",
    "\"Hello, cell\" + \"output!\"\n",
    "#\n",
    "\"ye maine likha hay\" + \" haan\"\n",
    "print(\"another one\")\n",
    "\"another two\""
   ]
  },
  {
   "cell_type": "markdown",
   "metadata": {},
   "source": [
    "#### For Loops"
   ]
  },
  {
   "cell_type": "code",
   "execution_count": 20,
   "metadata": {},
   "outputs": [
    {
     "name": "stdout",
     "output_type": "stream",
     "text": [
      "1\n",
      "Odd power of 2\n",
      "4\n",
      "Odd power of 2\n",
      "16\n",
      "from here\n",
      "0\n",
      "1\n",
      "2\n"
     ]
    }
   ],
   "source": [
    "# A for loop repeats a block of code once for each\n",
    "# element in a given collection.\n",
    "for i in range(5):\n",
    "    if i % 2 == 0:\n",
    "        print(2**i)\n",
    "    else:\n",
    "        print(\"Odd power of 2\")\n",
    "##\n",
    "print(\"from here\")\n",
    "for i in range(3):\n",
    "    print(i)"
   ]
  },
  {
   "cell_type": "markdown",
   "metadata": {},
   "source": [
    "#### List comprehension"
   ]
  },
  {
   "cell_type": "code",
   "execution_count": 21,
   "metadata": {},
   "outputs": [
    {
     "data": {
      "text/plain": [
       "['1 sheep.', '2 sheep.', '3 sheep.', '4 sheep.']"
      ]
     },
     "execution_count": 21,
     "metadata": {},
     "output_type": "execute_result"
    }
   ],
   "source": [
    "[str(i) + \" sheep.\" for i in range(1,5)] "
   ]
  },
  {
   "cell_type": "code",
   "execution_count": 22,
   "metadata": {},
   "outputs": [
    {
     "data": {
      "text/plain": [
       "[0, 2, 4, 6, 8]"
      ]
     },
     "execution_count": 22,
     "metadata": {},
     "output_type": "execute_result"
    }
   ],
   "source": [
    "[i for i in range(10) if i % 2 == 0]"
   ]
  },
  {
   "cell_type": "markdown",
   "metadata": {},
   "source": [
    "#### Defining functions"
   ]
  },
  {
   "cell_type": "code",
   "execution_count": 24,
   "metadata": {},
   "outputs": [],
   "source": [
    "def add2(x):\n",
    "    \"\"\"This docstring explains what this function does: it adds 2 to a number.\"\"\"\n",
    "    return x + 2"
   ]
  },
  {
   "cell_type": "markdown",
   "metadata": {},
   "source": [
    "#### Getting help"
   ]
  },
  {
   "cell_type": "code",
   "execution_count": 25,
   "metadata": {},
   "outputs": [
    {
     "name": "stdout",
     "output_type": "stream",
     "text": [
      "Help on function add2 in module __main__:\n",
      "\n",
      "add2(x)\n",
      "    This docstring explains what this function does: it adds 2 to a number.\n",
      "\n"
     ]
    }
   ],
   "source": [
    "help(add2)"
   ]
  },
  {
   "cell_type": "code",
   "execution_count": 26,
   "metadata": {},
   "outputs": [
    {
     "data": {
      "text/plain": [
       "\u001b[1;31mSignature:\u001b[0m \u001b[0madd2\u001b[0m\u001b[1;33m(\u001b[0m\u001b[0mx\u001b[0m\u001b[1;33m)\u001b[0m\u001b[1;33m\u001b[0m\u001b[1;33m\u001b[0m\u001b[0m\n",
       "\u001b[1;31mDocstring:\u001b[0m This docstring explains what this function does: it adds 2 to a number.\n",
       "\u001b[1;31mFile:\u001b[0m      c:\\users\\abdul\\google drive\\spring20\\cs418\\hwk\\hwk1\\hw1\\<ipython-input-24-2a753f3a77ca>\n",
       "\u001b[1;31mType:\u001b[0m      function\n"
      ]
     },
     "metadata": {},
     "output_type": "display_data"
    }
   ],
   "source": [
    "add2?"
   ]
  },
  {
   "cell_type": "markdown",
   "metadata": {},
   "source": [
    "You can close the window at the bottom by pressing esc.\n",
    "\n",
    "#### Passing functions as values"
   ]
  },
  {
   "cell_type": "code",
   "execution_count": 28,
   "metadata": {},
   "outputs": [
    {
     "data": {
      "text/plain": [
       "7"
      ]
     },
     "execution_count": 28,
     "metadata": {},
     "output_type": "execute_result"
    }
   ],
   "source": [
    "def makeAdder(amount):\n",
    "    \"\"\"Make a function that adds the given amount to a number.\"\"\"\n",
    "    def addAmount(x):\n",
    "        return x + amount\n",
    "    return addAmount\n",
    "\n",
    "add3 = makeAdder(3)\n",
    "add3(4)"
   ]
  },
  {
   "cell_type": "code",
   "execution_count": 29,
   "metadata": {},
   "outputs": [
    {
     "data": {
      "text/plain": [
       "7"
      ]
     },
     "execution_count": 29,
     "metadata": {},
     "output_type": "execute_result"
    }
   ],
   "source": [
    "makeAdder(3)(4)"
   ]
  },
  {
   "cell_type": "markdown",
   "metadata": {},
   "source": [
    "#### Anonymous Functions and Lambdas"
   ]
  },
  {
   "cell_type": "code",
   "execution_count": 30,
   "metadata": {},
   "outputs": [
    {
     "data": {
      "text/plain": [
       "9"
      ]
     },
     "execution_count": 30,
     "metadata": {},
     "output_type": "execute_result"
    }
   ],
   "source": [
    "# add4 is very similar to add2, but it's been created using a lambda expression.\n",
    "add4 = lambda x: x + 4\n",
    "add4(5)"
   ]
  },
  {
   "cell_type": "markdown",
   "metadata": {},
   "source": [
    "#### Recursion"
   ]
  },
  {
   "cell_type": "code",
   "execution_count": 31,
   "metadata": {},
   "outputs": [
    {
     "data": {
      "text/plain": [
       "13"
      ]
     },
     "execution_count": 31,
     "metadata": {},
     "output_type": "execute_result"
    }
   ],
   "source": [
    "def fib(n):\n",
    "    if n <= 1:\n",
    "        return 1\n",
    "    else:\n",
    "        # Functions can call themselves recursively.\n",
    "        return fib(n-1) + fib(n-2)\n",
    "\n",
    "fib(6)"
   ]
  },
  {
   "cell_type": "markdown",
   "metadata": {},
   "source": [
    "### NumPy and Tables\n",
    "\n",
    "The `NumPy` library lets us do fast, simple computing with numbers in Python. \n",
    "\n",
    "You should be able to understand the code in the following cells. If not, review the following:\n",
    "\n",
    "* [DS100 Numpy Review](http://ds100.org/fa17/assets/notebooks/numpy/Numpy_Review.html)\n",
    "* [Condensed Numpy Review](http://cs231n.github.io/python-numpy-tutorial/#numpy)\n",
    "* [The Official Numpy Tutorial](https://docs.scipy.org/doc/numpy/user/quickstart.html)\n",
    "\n",
    "**Jupyter pro-tip**: Pull up the docs for any function in Jupyter by running a cell with\n",
    "the function name and a `?` at the end:"
   ]
  },
  {
   "cell_type": "code",
   "execution_count": 34,
   "metadata": {},
   "outputs": [
    {
     "data": {
      "text/plain": [
       "\u001b[1;31mDocstring:\u001b[0m\n",
       "arange([start,] stop[, step,], dtype=None)\n",
       "\n",
       "Return evenly spaced values within a given interval.\n",
       "\n",
       "Values are generated within the half-open interval ``[start, stop)``\n",
       "(in other words, the interval including `start` but excluding `stop`).\n",
       "For integer arguments the function is equivalent to the Python built-in\n",
       "`range` function, but returns an ndarray rather than a list.\n",
       "\n",
       "When using a non-integer step, such as 0.1, the results will often not\n",
       "be consistent.  It is better to use `numpy.linspace` for these cases.\n",
       "\n",
       "Parameters\n",
       "----------\n",
       "start : number, optional\n",
       "    Start of interval.  The interval includes this value.  The default\n",
       "    start value is 0.\n",
       "stop : number\n",
       "    End of interval.  The interval does not include this value, except\n",
       "    in some cases where `step` is not an integer and floating point\n",
       "    round-off affects the length of `out`.\n",
       "step : number, optional\n",
       "    Spacing between values.  For any output `out`, this is the distance\n",
       "    between two adjacent values, ``out[i+1] - out[i]``.  The default\n",
       "    step size is 1.  If `step` is specified as a position argument,\n",
       "    `start` must also be given.\n",
       "dtype : dtype\n",
       "    The type of the output array.  If `dtype` is not given, infer the data\n",
       "    type from the other input arguments.\n",
       "\n",
       "Returns\n",
       "-------\n",
       "arange : ndarray\n",
       "    Array of evenly spaced values.\n",
       "\n",
       "    For floating point arguments, the length of the result is\n",
       "    ``ceil((stop - start)/step)``.  Because of floating point overflow,\n",
       "    this rule may result in the last element of `out` being greater\n",
       "    than `stop`.\n",
       "\n",
       "See Also\n",
       "--------\n",
       "numpy.linspace : Evenly spaced numbers with careful handling of endpoints.\n",
       "numpy.ogrid: Arrays of evenly spaced numbers in N-dimensions.\n",
       "numpy.mgrid: Grid-shaped arrays of evenly spaced numbers in N-dimensions.\n",
       "\n",
       "Examples\n",
       "--------\n",
       ">>> np.arange(3)\n",
       "array([0, 1, 2])\n",
       ">>> np.arange(3.0)\n",
       "array([ 0.,  1.,  2.])\n",
       ">>> np.arange(3,7)\n",
       "array([3, 4, 5, 6])\n",
       ">>> np.arange(3,7,2)\n",
       "array([3, 5])\n",
       "\u001b[1;31mType:\u001b[0m      builtin_function_or_method\n"
      ]
     },
     "metadata": {},
     "output_type": "display_data"
    }
   ],
   "source": [
    "np.arange?"
   ]
  },
  {
   "cell_type": "markdown",
   "metadata": {},
   "source": [
    "**Jupyter pro-tip**: Pull up the docs for any function in Jupyter by typing the function\n",
    "name, then `<Shift>-<Tab>` on your keyboard. Super convenient when you forget the order\n",
    "of the arguments to a function. You can press `<Tab>` multiple tabs to expand the docs.\n",
    "\n",
    "Try it on the function below:"
   ]
  },
  {
   "cell_type": "code",
   "execution_count": 36,
   "metadata": {},
   "outputs": [
    {
     "data": {
      "text/plain": [
       "\u001b[1;31mSignature:\u001b[0m\n",
       "\u001b[0mnp\u001b[0m\u001b[1;33m.\u001b[0m\u001b[0mlinspace\u001b[0m\u001b[1;33m(\u001b[0m\u001b[1;33m\n",
       "\u001b[0m    \u001b[0mstart\u001b[0m\u001b[1;33m,\u001b[0m\u001b[1;33m\n",
       "\u001b[0m    \u001b[0mstop\u001b[0m\u001b[1;33m,\u001b[0m\u001b[1;33m\n",
       "\u001b[0m    \u001b[0mnum\u001b[0m\u001b[1;33m=\u001b[0m\u001b[1;36m50\u001b[0m\u001b[1;33m,\u001b[0m\u001b[1;33m\n",
       "\u001b[0m    \u001b[0mendpoint\u001b[0m\u001b[1;33m=\u001b[0m\u001b[1;32mTrue\u001b[0m\u001b[1;33m,\u001b[0m\u001b[1;33m\n",
       "\u001b[0m    \u001b[0mretstep\u001b[0m\u001b[1;33m=\u001b[0m\u001b[1;32mFalse\u001b[0m\u001b[1;33m,\u001b[0m\u001b[1;33m\n",
       "\u001b[0m    \u001b[0mdtype\u001b[0m\u001b[1;33m=\u001b[0m\u001b[1;32mNone\u001b[0m\u001b[1;33m,\u001b[0m\u001b[1;33m\n",
       "\u001b[0m    \u001b[0maxis\u001b[0m\u001b[1;33m=\u001b[0m\u001b[1;36m0\u001b[0m\u001b[1;33m,\u001b[0m\u001b[1;33m\n",
       "\u001b[0m\u001b[1;33m)\u001b[0m\u001b[1;33m\u001b[0m\u001b[1;33m\u001b[0m\u001b[0m\n",
       "\u001b[1;31mDocstring:\u001b[0m\n",
       "Return evenly spaced numbers over a specified interval.\n",
       "\n",
       "Returns `num` evenly spaced samples, calculated over the\n",
       "interval [`start`, `stop`].\n",
       "\n",
       "The endpoint of the interval can optionally be excluded.\n",
       "\n",
       ".. versionchanged:: 1.16.0\n",
       "    Non-scalar `start` and `stop` are now supported.\n",
       "\n",
       "Parameters\n",
       "----------\n",
       "start : array_like\n",
       "    The starting value of the sequence.\n",
       "stop : array_like\n",
       "    The end value of the sequence, unless `endpoint` is set to False.\n",
       "    In that case, the sequence consists of all but the last of ``num + 1``\n",
       "    evenly spaced samples, so that `stop` is excluded.  Note that the step\n",
       "    size changes when `endpoint` is False.\n",
       "num : int, optional\n",
       "    Number of samples to generate. Default is 50. Must be non-negative.\n",
       "endpoint : bool, optional\n",
       "    If True, `stop` is the last sample. Otherwise, it is not included.\n",
       "    Default is True.\n",
       "retstep : bool, optional\n",
       "    If True, return (`samples`, `step`), where `step` is the spacing\n",
       "    between samples.\n",
       "dtype : dtype, optional\n",
       "    The type of the output array.  If `dtype` is not given, infer the data\n",
       "    type from the other input arguments.\n",
       "\n",
       "    .. versionadded:: 1.9.0\n",
       "\n",
       "axis : int, optional\n",
       "    The axis in the result to store the samples.  Relevant only if start\n",
       "    or stop are array-like.  By default (0), the samples will be along a\n",
       "    new axis inserted at the beginning. Use -1 to get an axis at the end.\n",
       "\n",
       "    .. versionadded:: 1.16.0\n",
       "\n",
       "Returns\n",
       "-------\n",
       "samples : ndarray\n",
       "    There are `num` equally spaced samples in the closed interval\n",
       "    ``[start, stop]`` or the half-open interval ``[start, stop)``\n",
       "    (depending on whether `endpoint` is True or False).\n",
       "step : float, optional\n",
       "    Only returned if `retstep` is True\n",
       "\n",
       "    Size of spacing between samples.\n",
       "\n",
       "\n",
       "See Also\n",
       "--------\n",
       "arange : Similar to `linspace`, but uses a step size (instead of the\n",
       "         number of samples).\n",
       "geomspace : Similar to `linspace`, but with numbers spaced evenly on a log\n",
       "            scale (a geometric progression).\n",
       "logspace : Similar to `geomspace`, but with the end points specified as\n",
       "           logarithms.\n",
       "\n",
       "Examples\n",
       "--------\n",
       ">>> np.linspace(2.0, 3.0, num=5)\n",
       "array([2.  , 2.25, 2.5 , 2.75, 3.  ])\n",
       ">>> np.linspace(2.0, 3.0, num=5, endpoint=False)\n",
       "array([2. ,  2.2,  2.4,  2.6,  2.8])\n",
       ">>> np.linspace(2.0, 3.0, num=5, retstep=True)\n",
       "(array([2.  ,  2.25,  2.5 ,  2.75,  3.  ]), 0.25)\n",
       "\n",
       "Graphical illustration:\n",
       "\n",
       ">>> import matplotlib.pyplot as plt\n",
       ">>> N = 8\n",
       ">>> y = np.zeros(N)\n",
       ">>> x1 = np.linspace(0, 10, N, endpoint=True)\n",
       ">>> x2 = np.linspace(0, 10, N, endpoint=False)\n",
       ">>> plt.plot(x1, y, 'o')\n",
       "[<matplotlib.lines.Line2D object at 0x...>]\n",
       ">>> plt.plot(x2, y + 0.5, 'o')\n",
       "[<matplotlib.lines.Line2D object at 0x...>]\n",
       ">>> plt.ylim([-0.5, 1])\n",
       "(-0.5, 1)\n",
       ">>> plt.show()\n",
       "\u001b[1;31mFile:\u001b[0m      c:\\users\\abdul\\anaconda3\\envs\\py\\lib\\site-packages\\numpy\\core\\function_base.py\n",
       "\u001b[1;31mType:\u001b[0m      function\n"
      ]
     },
     "metadata": {},
     "output_type": "display_data"
    }
   ],
   "source": [
    "np.linspace?"
   ]
  },
  {
   "cell_type": "markdown",
   "metadata": {},
   "source": [
    "You can use the tips above to help you decipher the following code."
   ]
  },
  {
   "cell_type": "code",
   "execution_count": 5,
   "metadata": {},
   "outputs": [
    {
     "data": {
      "text/plain": [
       "0.72675"
      ]
     },
     "execution_count": 5,
     "metadata": {},
     "output_type": "execute_result"
    }
   ],
   "source": [
    "# Let's take a 20-sided die...\n",
    "NUM_FACES = 20\n",
    "\n",
    "# ...and roll it 4 times\n",
    "rolls = 4\n",
    "\n",
    "# What's the probability that all 4 rolls are different? It's:\n",
    "# 20/20 * 19/20 * 18/20 * 17/20\n",
    "prob_diff = np.prod((NUM_FACES - np.arange(rolls))\n",
    "                    / NUM_FACES)\n",
    "prob_diff"
   ]
  },
  {
   "cell_type": "code",
   "execution_count": 9,
   "metadata": {},
   "outputs": [
    {
     "data": {
      "text/plain": [
       "array([1.     , 0.95   , 0.855  , 0.72675, 0.5814 ])"
      ]
     },
     "execution_count": 9,
     "metadata": {},
     "output_type": "execute_result"
    }
   ],
   "source": [
    "# Let's compute that probability for 1 roll, 2 rolls, ..., 20 rolls.\n",
    "# The array ys will contain:\n",
    "# \n",
    "# 20/20\n",
    "# 20/20 * 19/20\n",
    "# 20/20 * 18/20\n",
    "# ...\n",
    "# 20/20 * 19/20 * ... * 1/20\n",
    "\n",
    "xs = np.arange(20)\n",
    "ys = np.cumprod((NUM_FACES - xs) / NUM_FACES)\n",
    "\n",
    "# Python slicing works on arrays too\n",
    "ys[:5]"
   ]
  },
  {
   "cell_type": "code",
   "execution_count": 39,
   "metadata": {},
   "outputs": [
    {
     "data": {
      "text/plain": [
       "Text(0, 0.5, 'P(all different)')"
      ]
     },
     "execution_count": 39,
     "metadata": {},
     "output_type": "execute_result"
    },
    {
     "data": {
      "image/png": "[encoded data removed]",
      "text/plain": [
       "<Figure size 432x288 with 1 Axes>"
      ]
     },
     "metadata": {},
     "output_type": "display_data"
    }
   ],
   "source": [
    "plt.plot(xs, ys, 'o-')\n",
    "plt.xlabel(\"Num Rolls\")\n",
    "plt.ylabel('P(all different)')\n"
   ]
  },
  {
   "cell_type": "markdown",
   "metadata": {},
   "source": [
    "## Question 1\n",
    "\n",
    "#### Question 1a\n",
    "Write a function prime_nums_reversed that takes in an integer `n` and returns a string\n",
    "containing all prime numbers between 1 and `n` in reverse order, separated\n",
    "by spaces. For example:\n",
    "\n",
    "    >>> prime_nums_reversed(5)\n",
    "    '5 3 2'\n",
    "\n",
    "***Note:*** The ellipsis (`...`) indicates something you should fill in.  It *doesn't* necessarily imply you should replace it with only one line of code.\n",
    "\n",
    "\n",
    "***Complete the following block of code:***"
   ]
  },
  {
   "cell_type": "code",
   "execution_count": 36,
   "metadata": {},
   "outputs": [
    {
     "name": "stdout",
     "output_type": "stream",
     "text": [
      "[True, True, True]\n",
      "[3, 2]\n",
      "hello\n",
      "ello\n",
      "o\n"
     ]
    }
   ],
   "source": [
    "# delete it\n",
    "check = [True] * 3\n",
    "num = [i for i in range(3,1,-1)]\n",
    "print(check)\n",
    "print(num)\n",
    "\n",
    "string = 'hello'\n",
    "print(string)\n",
    "print(string[1:])\n",
    "print(string[len(string) -1])"
   ]
  },
  {
   "cell_type": "code",
   "execution_count": 28,
   "metadata": {},
   "outputs": [
    {
     "data": {
      "text/plain": [
       "'7 5 3 2'"
      ]
     },
     "execution_count": 28,
     "metadata": {},
     "output_type": "execute_result"
    }
   ],
   "source": [
    "\n",
    "def prime_nums_reversed(n):\n",
    "    ret = ''\n",
    "    check = [True] * n\n",
    "    num = 2\n",
    "    for i in range(2,n+1):\n",
    "        while i * num <= n:\n",
    "            check[i*num - 1] = False\n",
    "            num += 1\n",
    "        num = 2\n",
    "    for i in range(n,1,-1):\n",
    "        if check[i-1] == True:\n",
    "            ret = ret + ' ' + str(i)\n",
    "    return ret.strip()\n",
    "            \n",
    "prime_nums_reversed(10)\n",
    "        \n",
    "        "
   ]
  },
  {
   "cell_type": "markdown",
   "metadata": {},
   "source": [
    "#### Question 1b\n",
    "\n",
    "Write a function `string_explosion` that takes in a non-empty string like\n",
    "`\"Code\"` and returns a long string containing every suffix of the input.\n",
    "For example:\n",
    "\n",
    "    >>> string_explosion('Code')\n",
    "    'Codeodedee'\n",
    "    >>> string_explosion('data!')\n",
    "    'data!ata!ta!a!!'\n",
    "    >>> string_explosion('hi')\n",
    "    'hii'\n",
    "\n",
    "**Hint:** Try to use recursion. Think about how you might answering the following two questions:\n",
    "1. **[Base Case]** What is the `string_explosion` of the empty string?\n",
    "1. **[Inductive Step]** If you had a `string_explosion` function for the last $n-1$ characters of your string how could you extend it to the $1^{st}$ character? For example, `string_explosion(\"ode\") = \"odedee\"` becomes `string_explosion(\"Code\") = \"Codeodedee\"`.\n",
    "\n",
    "***Complete the following block of code:***"
   ]
  },
  {
   "cell_type": "code",
   "execution_count": 35,
   "metadata": {},
   "outputs": [
    {
     "data": {
      "text/plain": [
       "'codeodedee'"
      ]
     },
     "execution_count": 35,
     "metadata": {},
     "output_type": "execute_result"
    }
   ],
   "source": [
    "def string_explosion(string):\n",
    "    if len(string) == 0:\n",
    "        return ''\n",
    "    else:\n",
    "        return string + string_explosion(string[1:])\n",
    "string_explosion('code')"
   ]
  },
  {
   "cell_type": "markdown",
   "metadata": {},
   "source": [
    "#### Question 1c\n",
    "\n",
    "Write a function `replace` that takes in two lists: `a` and `b`, and returns a list where the last element of `a` is replaced\n",
    "by the list `b`.\n",
    "\n",
    "    >>> combine([1, 2, 3, 4], [5, 6, 7, 8])\n",
    "    [1, 2, 3, 5, 6, 7, 8]\n",
    "    >>> combine([8, 4, 3], [4, 1, 3, 0, 10])\n",
    "    [8, 4, 4, 1, 3, 0, 10]\n",
    "\n",
    "***Complete the following block of code:***"
   ]
  },
  {
   "cell_type": "code",
   "execution_count": 39,
   "metadata": {},
   "outputs": [
    {
     "data": {
      "text/plain": [
       "[8, 4, 4, 1, 3, 0, 10]"
      ]
     },
     "execution_count": 39,
     "metadata": {},
     "output_type": "execute_result"
    }
   ],
   "source": [
    "def replace(a, b):\n",
    "    a.pop()\n",
    "    return a + b\n",
    "replace([8,4,3], [4,1,3,0,10])"
   ]
  },
  {
   "cell_type": "markdown",
   "metadata": {},
   "source": [
    "### Question 2\n",
    "\n",
    "In this question, we'll ask you to use your linear algebra knowledge to fill in NumPy matrices. To conduct matrix multiplication in NumPy, you should write code like the following:\n"
   ]
  },
  {
   "cell_type": "code",
   "execution_count": 96,
   "metadata": {},
   "outputs": [
    {
     "name": "stdout",
     "output_type": "stream",
     "text": [
      "[[1 2 3]\n",
      " [4 5 6]]\n",
      "(2, 3)\n",
      "2\n",
      "\n",
      "\n",
      "[[10 11]\n",
      " [12 13]\n",
      " [14 15]]\n",
      "(3, 2)\n",
      "2\n",
      "\n",
      "\n",
      "[1 2 3]\n",
      "(3,)\n",
      "1\n",
      "\n",
      "\n",
      "[[ 76  82]\n",
      " [184 199]]\n"
     ]
    }
   ],
   "source": [
    "# A matrix in NumPy is simply a 2-dimensional NumPy array\n",
    "matA = np.array([\n",
    "    [1, 2, 3],\n",
    "    [4, 5, 6],\n",
    "])\n",
    "\n",
    "matB = np.array([\n",
    "    [10, 11],\n",
    "    [12, 13],\n",
    "    [14, 15],\n",
    "])\n",
    "\n",
    "matC = np.array([1,2,3])\n",
    "\n",
    "print(matA)\n",
    "print(matA.shape)\n",
    "print(matA.ndim)\n",
    "print('\\n')\n",
    "print(matB)\n",
    "print(matB.shape)\n",
    "print(matB.ndim)\n",
    "print('\\n')\n",
    "print(matC)\n",
    "print(matC.shape)\n",
    "print(matC.ndim)\n",
    "print('\\n')\n",
    "# The notation B @ v means: compute the matrix multiplication Bv\n",
    "ans = matA @ matB\n",
    "#ans = np.dot(matA,matB)\n",
    "print(ans)"
   ]
  },
  {
   "cell_type": "markdown",
   "metadata": {},
   "source": [
    "You can also use the same syntax to do matrix-vector multiplication or vector dot products."
   ]
  },
  {
   "cell_type": "code",
   "execution_count": null,
   "metadata": {},
   "outputs": [],
   "source": [
    "matA = np.array([\n",
    "    [1, 2, 3],\n",
    "    [4, 5, 6],\n",
    "])\n",
    "\n",
    "# A vector in NumPy is simply a 1-dimensional NumPy array\n",
    "some_vec = np.array([ 10, 12, 14, ])\n",
    "\n",
    "another_vec = np.array([ 10, 20, 30 ])\n",
    "\n",
    "print(matA @ some_vec)\n",
    "print(some_vec @ another_vec)"
   ]
  },
  {
   "cell_type": "markdown",
   "metadata": {},
   "source": [
    "#### Question 2a\n",
    "\n",
    "Bob, Daniela, and Luke are shopping for fruit at a store that only sells fruit bowls. A fruit bowl contains some fruit and the price of a fruit bowl is the total price of all of its individual fruit.\n",
    "\n",
    "The store has mangos for \\$1.00, strawberries \\$3.00, and apricots \\$5.00. The price of each of these can be written in a vector:\n",
    "\n",
    "$$\n",
    "\\vec{v} = \\begin{bmatrix}\n",
    "     1 \\\\\n",
    "     3 \\\\\n",
    "     5 \\\\\n",
    "\\end{bmatrix}\n",
    "$$\n",
    "\n",
    "The store sells the following fruit bowls:\n",
    "\n",
    "#1: 4 of each fruit\n",
    "#2: 1 mangos and 3 apricots\n",
    "#3: 4 strawberries and 2 apricots\n",
    "#4: 12 apricots\n",
    "\n",
    "Create a 2-dimensional numpy array encoding the matrix $B$ such that the matrix-vector multiplication\n",
    "\n",
    "$$\n",
    "B\\vec{v}\n",
    "$$\n",
    "\n",
    "evaluates to a length 4 column vector containing the price of each fruit bowl. The first entry of the result should be the cost of fruit bowl #1, the second entry the cost of fruit bowl #2, etc.\n",
    "\n",
    "***Complete the following block of code:***"
   ]
  },
  {
   "cell_type": "code",
   "execution_count": 83,
   "metadata": {},
   "outputs": [
    {
     "name": "stdout",
     "output_type": "stream",
     "text": [
      "[36 16 22 60]\n",
      "(4,)\n",
      "1\n"
     ]
    }
   ],
   "source": [
    "v = np.array([1,3,5])\n",
    "B = np.array([\n",
    "# You should fill this in.\n",
    "    [4,4,4],\n",
    "    [1,0,3],\n",
    "    [0,4,2],\n",
    "    [0,0,12]\n",
    "])\n",
    "\n",
    "def bowl_cost(v):\n",
    "    B = np.array([\n",
    "    # You should fill this in.\n",
    "        [4,4,4],\n",
    "        [1,0,3],\n",
    "        [0,4,2],\n",
    "        [0,0,12]\n",
    "    ])\n",
    "    #print(B)\n",
    "    # The notation B @ v means: compute the matrix multiplication Bv\n",
    "    return B @ v\n",
    "print(bowl_cost(v))\n",
    "print(bowl_cost(v).shape)\n",
    "print(bowl_cost(v).ndim)"
   ]
  },
  {
   "cell_type": "markdown",
   "metadata": {},
   "source": [
    "#### Question 2b\n",
    "\n",
    "Bob, Daniela, and Luke make the following purchases:\n",
    "\n",
    "- Bob buys 3 fruit bowl #2's and 2 fruit bowl #3.\n",
    "- Daniela buys 2 of each fruit bowl.\n",
    "- Luke buys 10 fruit bowl #4s (he really likes apricots).\n",
    "\n",
    "Create a matrix $A$ such that the matrix expression\n",
    "\n",
    "$$\n",
    "AB\\vec{v}\n",
    "$$\n",
    "\n",
    "evaluates to a length 3 column vector containing how much each of them spent. The first entry of the result should be the total amount spent by Bob, the second entry the amount sent by Daniela, etc.\n",
    "\n",
    "***Complete the following block of code:***"
   ]
  },
  {
   "cell_type": "code",
   "execution_count": 88,
   "metadata": {},
   "outputs": [
    {
     "name": "stdout",
     "output_type": "stream",
     "text": [
      "[ 92 268 240]\n",
      "(3,)\n",
      "1\n"
     ]
    }
   ],
   "source": [
    "def amount_spent(v, B):\n",
    "    A = np.array([\n",
    "    [0, 3, 2, 0],\n",
    "    # Finish this!\n",
    "    [2,2,2,2],\n",
    "    [0,0,0,4]\n",
    "    ]) \n",
    "    return A @ B @ v \n",
    "print(amount_spent(v,B))\n",
    "print(amount_spent(v,B).shape)\n",
    "print(amount_spent(v,B).ndim)"
   ]
  },
  {
   "cell_type": "markdown",
   "metadata": {},
   "source": [
    "#### Question 2c\n",
    "\n",
    "Let's suppose the store changes their fruit prices, but you don't know what they changed their prices to. Bob, Daniela, and Luke buy the same quantity of fruit baskets and the number of fruit in each basket is the same, but now they each spent these amounts:\n",
    "\n",
    "$$\n",
    "\\vec{x} = \\begin{bmatrix}\n",
    "    40 \\\\\n",
    "    100 \\\\\n",
    "    120 \\\\\n",
    "\\end{bmatrix}\n",
    "$$\n",
    "\n",
    "Use `np.linalg.inv` and the above final costs to compute the new prices for the individual fruits.\n",
    "\n",
    "***Complete the following block of code:***"
   ]
  },
  {
   "cell_type": "code",
   "execution_count": null,
   "metadata": {},
   "outputs": [],
   "source": [
    "def new_price(A, B, x):\n",
    "    # Finish this!\n",
    "    new_v = ...\n",
    "    return new_v "
   ]
  }
 ],
 "metadata": {
  "kernelspec": {
   "display_name": "Python 3",
   "language": "python",
   "name": "python3"
  },
  "language_info": {
   "codemirror_mode": {
    "name": "ipython",
    "version": 3
   },
   "file_extension": ".py",
   "mimetype": "text/x-python",
   "name": "python",
   "nbconvert_exporter": "python",
   "pygments_lexer": "ipython3",
   "version": "3.7.6"
  }
 },
 "nbformat": 4,
 "nbformat_minor": 4
}
